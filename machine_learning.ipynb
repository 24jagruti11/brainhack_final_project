{
  "nbformat": 4,
  "nbformat_minor": 0,
  "metadata": {
    "colab": {
      "provenance": [],
      "include_colab_link": true
    },
    "kernelspec": {
      "name": "python3",
      "display_name": "Python 3"
    },
    "language_info": {
      "name": "python"
    }
  },
  "cells": [
    {
      "cell_type": "markdown",
      "metadata": {
        "id": "view-in-github",
        "colab_type": "text"
      },
      "source": [
        "<a href=\"https://colab.research.google.com/github/24jagruti11/brainhack_final_project/blob/main/machine_learning.ipynb\" target=\"_parent\"><img src=\"https://colab.research.google.com/assets/colab-badge.svg\" alt=\"Open In Colab\"/></a>"
      ]
    },
    {
      "cell_type": "code",
      "source": [
        "from pathlib import Path\n",
        "import os\n",
        "import pandas as pd\n",
        "import nibabel as nib\n",
        "import seaborn as sns\n",
        "import numpy as np\n",
        "\n",
        "import matplotlib.pyplot as plt\n",
        "from google.colab import drive\n",
        "drive.mount('/content/drive')\n",
        "os.chdir('/content/drive/MyDrive/ptseries')"
      ],
      "metadata": {
        "colab": {
          "base_uri": "https://localhost:8080/",
          "height": 379
        },
        "id": "GBigTFfJihPk",
        "outputId": "18f4a966-8422-4e3c-d889-7765ab32bc78"
      },
      "execution_count": null,
      "outputs": [
        {
          "output_type": "error",
          "ename": "MessageError",
          "evalue": "ignored",
          "traceback": [
            "\u001b[0;31m---------------------------------------------------------------------------\u001b[0m",
            "\u001b[0;31mMessageError\u001b[0m                              Traceback (most recent call last)",
            "\u001b[0;32m<ipython-input-2-b346313c0d9c>\u001b[0m in \u001b[0;36m<cell line: 10>\u001b[0;34m()\u001b[0m\n\u001b[1;32m      8\u001b[0m \u001b[0;32mimport\u001b[0m \u001b[0mmatplotlib\u001b[0m\u001b[0;34m.\u001b[0m\u001b[0mpyplot\u001b[0m \u001b[0;32mas\u001b[0m \u001b[0mplt\u001b[0m\u001b[0;34m\u001b[0m\u001b[0;34m\u001b[0m\u001b[0m\n\u001b[1;32m      9\u001b[0m \u001b[0;32mfrom\u001b[0m \u001b[0mgoogle\u001b[0m\u001b[0;34m.\u001b[0m\u001b[0mcolab\u001b[0m \u001b[0;32mimport\u001b[0m \u001b[0mdrive\u001b[0m\u001b[0;34m\u001b[0m\u001b[0;34m\u001b[0m\u001b[0m\n\u001b[0;32m---> 10\u001b[0;31m \u001b[0mdrive\u001b[0m\u001b[0;34m.\u001b[0m\u001b[0mmount\u001b[0m\u001b[0;34m(\u001b[0m\u001b[0;34m'/content/drive'\u001b[0m\u001b[0;34m)\u001b[0m\u001b[0;34m\u001b[0m\u001b[0;34m\u001b[0m\u001b[0m\n\u001b[0m\u001b[1;32m     11\u001b[0m \u001b[0mos\u001b[0m\u001b[0;34m.\u001b[0m\u001b[0mchdir\u001b[0m\u001b[0;34m(\u001b[0m\u001b[0;34m'/content/drive/MyDrive/ptseries'\u001b[0m\u001b[0;34m)\u001b[0m\u001b[0;34m\u001b[0m\u001b[0;34m\u001b[0m\u001b[0m\n",
            "\u001b[0;32m/usr/local/lib/python3.10/dist-packages/google/colab/drive.py\u001b[0m in \u001b[0;36mmount\u001b[0;34m(mountpoint, force_remount, timeout_ms, readonly)\u001b[0m\n\u001b[1;32m    101\u001b[0m \u001b[0;32mdef\u001b[0m \u001b[0mmount\u001b[0m\u001b[0;34m(\u001b[0m\u001b[0mmountpoint\u001b[0m\u001b[0;34m,\u001b[0m \u001b[0mforce_remount\u001b[0m\u001b[0;34m=\u001b[0m\u001b[0;32mFalse\u001b[0m\u001b[0;34m,\u001b[0m \u001b[0mtimeout_ms\u001b[0m\u001b[0;34m=\u001b[0m\u001b[0;36m120000\u001b[0m\u001b[0;34m,\u001b[0m \u001b[0mreadonly\u001b[0m\u001b[0;34m=\u001b[0m\u001b[0;32mFalse\u001b[0m\u001b[0;34m)\u001b[0m\u001b[0;34m:\u001b[0m\u001b[0;34m\u001b[0m\u001b[0;34m\u001b[0m\u001b[0m\n\u001b[1;32m    102\u001b[0m   \u001b[0;34m\"\"\"Mount your Google Drive at the specified mountpoint path.\"\"\"\u001b[0m\u001b[0;34m\u001b[0m\u001b[0;34m\u001b[0m\u001b[0m\n\u001b[0;32m--> 103\u001b[0;31m   return _mount(\n\u001b[0m\u001b[1;32m    104\u001b[0m       \u001b[0mmountpoint\u001b[0m\u001b[0;34m,\u001b[0m\u001b[0;34m\u001b[0m\u001b[0;34m\u001b[0m\u001b[0m\n\u001b[1;32m    105\u001b[0m       \u001b[0mforce_remount\u001b[0m\u001b[0;34m=\u001b[0m\u001b[0mforce_remount\u001b[0m\u001b[0;34m,\u001b[0m\u001b[0;34m\u001b[0m\u001b[0;34m\u001b[0m\u001b[0m\n",
            "\u001b[0;32m/usr/local/lib/python3.10/dist-packages/google/colab/drive.py\u001b[0m in \u001b[0;36m_mount\u001b[0;34m(mountpoint, force_remount, timeout_ms, ephemeral, readonly)\u001b[0m\n\u001b[1;32m    130\u001b[0m   )\n\u001b[1;32m    131\u001b[0m   \u001b[0;32mif\u001b[0m \u001b[0mephemeral\u001b[0m\u001b[0;34m:\u001b[0m\u001b[0;34m\u001b[0m\u001b[0;34m\u001b[0m\u001b[0m\n\u001b[0;32m--> 132\u001b[0;31m     _message.blocking_request(\n\u001b[0m\u001b[1;32m    133\u001b[0m         \u001b[0;34m'request_auth'\u001b[0m\u001b[0;34m,\u001b[0m \u001b[0mrequest\u001b[0m\u001b[0;34m=\u001b[0m\u001b[0;34m{\u001b[0m\u001b[0;34m'authType'\u001b[0m\u001b[0;34m:\u001b[0m \u001b[0;34m'dfs_ephemeral'\u001b[0m\u001b[0;34m}\u001b[0m\u001b[0;34m,\u001b[0m \u001b[0mtimeout_sec\u001b[0m\u001b[0;34m=\u001b[0m\u001b[0;32mNone\u001b[0m\u001b[0;34m\u001b[0m\u001b[0;34m\u001b[0m\u001b[0m\n\u001b[1;32m    134\u001b[0m     )\n",
            "\u001b[0;32m/usr/local/lib/python3.10/dist-packages/google/colab/_message.py\u001b[0m in \u001b[0;36mblocking_request\u001b[0;34m(request_type, request, timeout_sec, parent)\u001b[0m\n\u001b[1;32m    174\u001b[0m       \u001b[0mrequest_type\u001b[0m\u001b[0;34m,\u001b[0m \u001b[0mrequest\u001b[0m\u001b[0;34m,\u001b[0m \u001b[0mparent\u001b[0m\u001b[0;34m=\u001b[0m\u001b[0mparent\u001b[0m\u001b[0;34m,\u001b[0m \u001b[0mexpect_reply\u001b[0m\u001b[0;34m=\u001b[0m\u001b[0;32mTrue\u001b[0m\u001b[0;34m\u001b[0m\u001b[0;34m\u001b[0m\u001b[0m\n\u001b[1;32m    175\u001b[0m   )\n\u001b[0;32m--> 176\u001b[0;31m   \u001b[0;32mreturn\u001b[0m \u001b[0mread_reply_from_input\u001b[0m\u001b[0;34m(\u001b[0m\u001b[0mrequest_id\u001b[0m\u001b[0;34m,\u001b[0m \u001b[0mtimeout_sec\u001b[0m\u001b[0;34m)\u001b[0m\u001b[0;34m\u001b[0m\u001b[0;34m\u001b[0m\u001b[0m\n\u001b[0m",
            "\u001b[0;32m/usr/local/lib/python3.10/dist-packages/google/colab/_message.py\u001b[0m in \u001b[0;36mread_reply_from_input\u001b[0;34m(message_id, timeout_sec)\u001b[0m\n\u001b[1;32m    101\u001b[0m     ):\n\u001b[1;32m    102\u001b[0m       \u001b[0;32mif\u001b[0m \u001b[0;34m'error'\u001b[0m \u001b[0;32min\u001b[0m \u001b[0mreply\u001b[0m\u001b[0;34m:\u001b[0m\u001b[0;34m\u001b[0m\u001b[0;34m\u001b[0m\u001b[0m\n\u001b[0;32m--> 103\u001b[0;31m         \u001b[0;32mraise\u001b[0m \u001b[0mMessageError\u001b[0m\u001b[0;34m(\u001b[0m\u001b[0mreply\u001b[0m\u001b[0;34m[\u001b[0m\u001b[0;34m'error'\u001b[0m\u001b[0;34m]\u001b[0m\u001b[0;34m)\u001b[0m\u001b[0;34m\u001b[0m\u001b[0;34m\u001b[0m\u001b[0m\n\u001b[0m\u001b[1;32m    104\u001b[0m       \u001b[0;32mreturn\u001b[0m \u001b[0mreply\u001b[0m\u001b[0;34m.\u001b[0m\u001b[0mget\u001b[0m\u001b[0;34m(\u001b[0m\u001b[0;34m'data'\u001b[0m\u001b[0;34m,\u001b[0m \u001b[0;32mNone\u001b[0m\u001b[0;34m)\u001b[0m\u001b[0;34m\u001b[0m\u001b[0;34m\u001b[0m\u001b[0m\n\u001b[1;32m    105\u001b[0m \u001b[0;34m\u001b[0m\u001b[0m\n",
            "\u001b[0;31mMessageError\u001b[0m: Error: credential propagation was unsuccessful"
          ]
        }
      ]
    },
    {
      "cell_type": "code",
      "source": [
        "aparc_corZ_df = np.empty((75,392,392))\n",
        "aparc_corZ_df[:] = np.nan"
      ],
      "metadata": {
        "id": "ERFPLxckTGHK"
      },
      "execution_count": null,
      "outputs": []
    },
    {
      "cell_type": "code",
      "source": [
        "data = pd.read_csv('participants.csv')\n",
        "\n",
        "print(data)"
      ],
      "metadata": {
        "colab": {
          "base_uri": "https://localhost:8080/"
        },
        "id": "MBIskw7ng25G",
        "outputId": "3d762304-3130-4937-ad2f-99b1a3f1c4a5"
      },
      "execution_count": null,
      "outputs": [
        {
          "output_type": "stream",
          "name": "stdout",
          "text": [
            "   participant_id   age     sex     iq group  subjects data\n",
            "0          sub-01  47.0    male   81.0    HC         1    y\n",
            "1          sub-02  36.0    male  104.0    HC         2    y\n",
            "2          sub-03  43.0    male  108.0    HC         3    y\n",
            "3          sub-04  25.0    male  106.0    HC         4    y\n",
            "4          sub-05   NaN     NaN    NaN   NaN         5    n\n",
            "..            ...   ...     ...    ...   ...       ...  ...\n",
            "70         sub-71  66.0  female   98.0  AVH+        71    y\n",
            "71         sub-72  64.0    male   89.0  AVH+        72    y\n",
            "72         sub-73  20.0  female   73.0  AVH+        73    y\n",
            "73         sub-74  42.0    male  114.0  AVH+        74    y\n",
            "74         sub-75  32.0    male   98.0  AVH+        75    y\n",
            "\n",
            "[75 rows x 7 columns]\n"
          ]
        }
      ]
    },
    {
      "cell_type": "code",
      "source": [
        "data = data[data['data'] == 'y'] \n",
        "print(data)"
      ],
      "metadata": {
        "colab": {
          "base_uri": "https://localhost:8080/"
        },
        "id": "CJoThNrEGVYJ",
        "outputId": "9e85c1de-741a-4791-9b6c-530b511f612d"
      },
      "execution_count": null,
      "outputs": [
        {
          "output_type": "stream",
          "name": "stdout",
          "text": [
            "   participant_id   age     sex     iq group  subjects data\n",
            "0          sub-01  47.0    male   81.0    HC         1    y\n",
            "1          sub-02  36.0    male  104.0    HC         2    y\n",
            "2          sub-03  43.0    male  108.0    HC         3    y\n",
            "3          sub-04  25.0    male  106.0    HC         4    y\n",
            "6          sub-07  38.0  female  100.0    HC         7    y\n",
            "..            ...   ...     ...    ...   ...       ...  ...\n",
            "70         sub-71  66.0  female   98.0  AVH+        71    y\n",
            "71         sub-72  64.0    male   89.0  AVH+        72    y\n",
            "72         sub-73  20.0  female   73.0  AVH+        73    y\n",
            "73         sub-74  42.0    male  114.0  AVH+        74    y\n",
            "74         sub-75  32.0    male   98.0  AVH+        75    y\n",
            "\n",
            "[67 rows x 7 columns]\n"
          ]
        }
      ]
    },
    {
      "cell_type": "code",
      "source": [
        "for subj in data.subjects:\n",
        "\n",
        "\n",
        "    # construct file name\n",
        "    filename = 'sub-%02d/func/sub-%02d_task-speech_atlas-GlasserTianS2_desc-cleaneds0_bold.ptseries.nii' % (subj,subj)\n",
        "    print('Subj %d : %s' % (subj,filename))\n",
        "\n",
        "    aparc_ptseries_nib = nib.load(filename)\n",
        "\n",
        "    ## now that it has been loaded we can get the data from within it using the get_fdata() method\n",
        "    aparc_ptseries_data = aparc_ptseries_nib.get_fdata()\n",
        "\n",
        "    aparc_parcels = aparc_ptseries_nib.header.get_axis(1).name\n",
        "    aparc_ptseries_df = pd.DataFrame(aparc_ptseries_data, columns=aparc_parcels)\n",
        "\n",
        "    aparc_cor_df = aparc_ptseries_df.corr()  ## you can just call corr() on the pandas dataframe to get a correlation matrix\n",
        "    aparc_corZ_df[subj-1,:,:] = np.arctanh(aparc_cor_df).values ## the Fisher's r-to-z transform - we usually do this before stats "
      ],
      "metadata": {
        "colab": {
          "base_uri": "https://localhost:8080/"
        },
        "id": "mIF9FoC1l9Ia",
        "outputId": "d86295b0-b37c-4b61-9579-4c56af921523"
      },
      "execution_count": null,
      "outputs": [
        {
          "output_type": "stream",
          "name": "stdout",
          "text": [
            "Subj 1 : sub-01/func/sub-01_task-speech_atlas-GlasserTianS2_desc-cleaneds0_bold.ptseries.nii\n"
          ]
        },
        {
          "output_type": "stream",
          "name": "stderr",
          "text": [
            "/usr/local/lib/python3.10/dist-packages/pandas/core/internals/blocks.py:351: RuntimeWarning: divide by zero encountered in arctanh\n",
            "  result = func(self.values, **kwargs)\n"
          ]
        },
        {
          "output_type": "stream",
          "name": "stdout",
          "text": [
            "Subj 2 : sub-02/func/sub-02_task-speech_atlas-GlasserTianS2_desc-cleaneds0_bold.ptseries.nii\n"
          ]
        },
        {
          "output_type": "stream",
          "name": "stderr",
          "text": [
            "/usr/local/lib/python3.10/dist-packages/pandas/core/internals/blocks.py:351: RuntimeWarning: divide by zero encountered in arctanh\n",
            "  result = func(self.values, **kwargs)\n"
          ]
        },
        {
          "output_type": "stream",
          "name": "stdout",
          "text": [
            "Subj 3 : sub-03/func/sub-03_task-speech_atlas-GlasserTianS2_desc-cleaneds0_bold.ptseries.nii\n"
          ]
        },
        {
          "output_type": "stream",
          "name": "stderr",
          "text": [
            "/usr/local/lib/python3.10/dist-packages/pandas/core/internals/blocks.py:351: RuntimeWarning: divide by zero encountered in arctanh\n",
            "  result = func(self.values, **kwargs)\n"
          ]
        },
        {
          "output_type": "stream",
          "name": "stdout",
          "text": [
            "Subj 4 : sub-04/func/sub-04_task-speech_atlas-GlasserTianS2_desc-cleaneds0_bold.ptseries.nii\n"
          ]
        },
        {
          "output_type": "stream",
          "name": "stderr",
          "text": [
            "/usr/local/lib/python3.10/dist-packages/pandas/core/internals/blocks.py:351: RuntimeWarning: divide by zero encountered in arctanh\n",
            "  result = func(self.values, **kwargs)\n"
          ]
        },
        {
          "output_type": "stream",
          "name": "stdout",
          "text": [
            "Subj 7 : sub-07/func/sub-07_task-speech_atlas-GlasserTianS2_desc-cleaneds0_bold.ptseries.nii\n"
          ]
        },
        {
          "output_type": "stream",
          "name": "stderr",
          "text": [
            "/usr/local/lib/python3.10/dist-packages/pandas/core/internals/blocks.py:351: RuntimeWarning: divide by zero encountered in arctanh\n",
            "  result = func(self.values, **kwargs)\n"
          ]
        },
        {
          "output_type": "stream",
          "name": "stdout",
          "text": [
            "Subj 8 : sub-08/func/sub-08_task-speech_atlas-GlasserTianS2_desc-cleaneds0_bold.ptseries.nii\n"
          ]
        },
        {
          "output_type": "stream",
          "name": "stderr",
          "text": [
            "/usr/local/lib/python3.10/dist-packages/pandas/core/internals/blocks.py:351: RuntimeWarning: divide by zero encountered in arctanh\n",
            "  result = func(self.values, **kwargs)\n"
          ]
        },
        {
          "output_type": "stream",
          "name": "stdout",
          "text": [
            "Subj 9 : sub-09/func/sub-09_task-speech_atlas-GlasserTianS2_desc-cleaneds0_bold.ptseries.nii\n"
          ]
        },
        {
          "output_type": "stream",
          "name": "stderr",
          "text": [
            "/usr/local/lib/python3.10/dist-packages/pandas/core/internals/blocks.py:351: RuntimeWarning: divide by zero encountered in arctanh\n",
            "  result = func(self.values, **kwargs)\n"
          ]
        },
        {
          "output_type": "stream",
          "name": "stdout",
          "text": [
            "Subj 10 : sub-10/func/sub-10_task-speech_atlas-GlasserTianS2_desc-cleaneds0_bold.ptseries.nii\n"
          ]
        },
        {
          "output_type": "stream",
          "name": "stderr",
          "text": [
            "/usr/local/lib/python3.10/dist-packages/pandas/core/internals/blocks.py:351: RuntimeWarning: divide by zero encountered in arctanh\n",
            "  result = func(self.values, **kwargs)\n"
          ]
        },
        {
          "output_type": "stream",
          "name": "stdout",
          "text": [
            "Subj 11 : sub-11/func/sub-11_task-speech_atlas-GlasserTianS2_desc-cleaneds0_bold.ptseries.nii\n"
          ]
        },
        {
          "output_type": "stream",
          "name": "stderr",
          "text": [
            "/usr/local/lib/python3.10/dist-packages/pandas/core/internals/blocks.py:351: RuntimeWarning: divide by zero encountered in arctanh\n",
            "  result = func(self.values, **kwargs)\n"
          ]
        },
        {
          "output_type": "stream",
          "name": "stdout",
          "text": [
            "Subj 12 : sub-12/func/sub-12_task-speech_atlas-GlasserTianS2_desc-cleaneds0_bold.ptseries.nii\n"
          ]
        },
        {
          "output_type": "stream",
          "name": "stderr",
          "text": [
            "/usr/local/lib/python3.10/dist-packages/pandas/core/internals/blocks.py:351: RuntimeWarning: divide by zero encountered in arctanh\n",
            "  result = func(self.values, **kwargs)\n"
          ]
        },
        {
          "output_type": "stream",
          "name": "stdout",
          "text": [
            "Subj 13 : sub-13/func/sub-13_task-speech_atlas-GlasserTianS2_desc-cleaneds0_bold.ptseries.nii\n"
          ]
        },
        {
          "output_type": "stream",
          "name": "stderr",
          "text": [
            "/usr/local/lib/python3.10/dist-packages/pandas/core/internals/blocks.py:351: RuntimeWarning: divide by zero encountered in arctanh\n",
            "  result = func(self.values, **kwargs)\n"
          ]
        },
        {
          "output_type": "stream",
          "name": "stdout",
          "text": [
            "Subj 14 : sub-14/func/sub-14_task-speech_atlas-GlasserTianS2_desc-cleaneds0_bold.ptseries.nii\n"
          ]
        },
        {
          "output_type": "stream",
          "name": "stderr",
          "text": [
            "/usr/local/lib/python3.10/dist-packages/pandas/core/internals/blocks.py:351: RuntimeWarning: divide by zero encountered in arctanh\n",
            "  result = func(self.values, **kwargs)\n"
          ]
        },
        {
          "output_type": "stream",
          "name": "stdout",
          "text": [
            "Subj 15 : sub-15/func/sub-15_task-speech_atlas-GlasserTianS2_desc-cleaneds0_bold.ptseries.nii\n"
          ]
        },
        {
          "output_type": "stream",
          "name": "stderr",
          "text": [
            "/usr/local/lib/python3.10/dist-packages/pandas/core/internals/blocks.py:351: RuntimeWarning: divide by zero encountered in arctanh\n",
            "  result = func(self.values, **kwargs)\n"
          ]
        },
        {
          "output_type": "stream",
          "name": "stdout",
          "text": [
            "Subj 16 : sub-16/func/sub-16_task-speech_atlas-GlasserTianS2_desc-cleaneds0_bold.ptseries.nii\n"
          ]
        },
        {
          "output_type": "stream",
          "name": "stderr",
          "text": [
            "/usr/local/lib/python3.10/dist-packages/pandas/core/internals/blocks.py:351: RuntimeWarning: divide by zero encountered in arctanh\n",
            "  result = func(self.values, **kwargs)\n"
          ]
        },
        {
          "output_type": "stream",
          "name": "stdout",
          "text": [
            "Subj 17 : sub-17/func/sub-17_task-speech_atlas-GlasserTianS2_desc-cleaneds0_bold.ptseries.nii\n"
          ]
        },
        {
          "output_type": "stream",
          "name": "stderr",
          "text": [
            "/usr/local/lib/python3.10/dist-packages/pandas/core/internals/blocks.py:351: RuntimeWarning: divide by zero encountered in arctanh\n",
            "  result = func(self.values, **kwargs)\n"
          ]
        },
        {
          "output_type": "stream",
          "name": "stdout",
          "text": [
            "Subj 18 : sub-18/func/sub-18_task-speech_atlas-GlasserTianS2_desc-cleaneds0_bold.ptseries.nii\n"
          ]
        },
        {
          "output_type": "stream",
          "name": "stderr",
          "text": [
            "/usr/local/lib/python3.10/dist-packages/pandas/core/internals/blocks.py:351: RuntimeWarning: divide by zero encountered in arctanh\n",
            "  result = func(self.values, **kwargs)\n"
          ]
        },
        {
          "output_type": "stream",
          "name": "stdout",
          "text": [
            "Subj 19 : sub-19/func/sub-19_task-speech_atlas-GlasserTianS2_desc-cleaneds0_bold.ptseries.nii\n"
          ]
        },
        {
          "output_type": "stream",
          "name": "stderr",
          "text": [
            "/usr/local/lib/python3.10/dist-packages/pandas/core/internals/blocks.py:351: RuntimeWarning: divide by zero encountered in arctanh\n",
            "  result = func(self.values, **kwargs)\n"
          ]
        },
        {
          "output_type": "stream",
          "name": "stdout",
          "text": [
            "Subj 20 : sub-20/func/sub-20_task-speech_atlas-GlasserTianS2_desc-cleaneds0_bold.ptseries.nii\n"
          ]
        },
        {
          "output_type": "stream",
          "name": "stderr",
          "text": [
            "/usr/local/lib/python3.10/dist-packages/pandas/core/internals/blocks.py:351: RuntimeWarning: divide by zero encountered in arctanh\n",
            "  result = func(self.values, **kwargs)\n"
          ]
        },
        {
          "output_type": "stream",
          "name": "stdout",
          "text": [
            "Subj 21 : sub-21/func/sub-21_task-speech_atlas-GlasserTianS2_desc-cleaneds0_bold.ptseries.nii\n"
          ]
        },
        {
          "output_type": "stream",
          "name": "stderr",
          "text": [
            "/usr/local/lib/python3.10/dist-packages/pandas/core/internals/blocks.py:351: RuntimeWarning: divide by zero encountered in arctanh\n",
            "  result = func(self.values, **kwargs)\n"
          ]
        },
        {
          "output_type": "stream",
          "name": "stdout",
          "text": [
            "Subj 22 : sub-22/func/sub-22_task-speech_atlas-GlasserTianS2_desc-cleaneds0_bold.ptseries.nii\n"
          ]
        },
        {
          "output_type": "stream",
          "name": "stderr",
          "text": [
            "/usr/local/lib/python3.10/dist-packages/pandas/core/internals/blocks.py:351: RuntimeWarning: divide by zero encountered in arctanh\n",
            "  result = func(self.values, **kwargs)\n"
          ]
        },
        {
          "output_type": "stream",
          "name": "stdout",
          "text": [
            "Subj 23 : sub-23/func/sub-23_task-speech_atlas-GlasserTianS2_desc-cleaneds0_bold.ptseries.nii\n"
          ]
        },
        {
          "output_type": "stream",
          "name": "stderr",
          "text": [
            "/usr/local/lib/python3.10/dist-packages/pandas/core/internals/blocks.py:351: RuntimeWarning: divide by zero encountered in arctanh\n",
            "  result = func(self.values, **kwargs)\n"
          ]
        },
        {
          "output_type": "stream",
          "name": "stdout",
          "text": [
            "Subj 24 : sub-24/func/sub-24_task-speech_atlas-GlasserTianS2_desc-cleaneds0_bold.ptseries.nii\n"
          ]
        },
        {
          "output_type": "stream",
          "name": "stderr",
          "text": [
            "/usr/local/lib/python3.10/dist-packages/pandas/core/internals/blocks.py:351: RuntimeWarning: divide by zero encountered in arctanh\n",
            "  result = func(self.values, **kwargs)\n"
          ]
        },
        {
          "output_type": "stream",
          "name": "stdout",
          "text": [
            "Subj 25 : sub-25/func/sub-25_task-speech_atlas-GlasserTianS2_desc-cleaneds0_bold.ptseries.nii\n"
          ]
        },
        {
          "output_type": "stream",
          "name": "stderr",
          "text": [
            "/usr/local/lib/python3.10/dist-packages/pandas/core/internals/blocks.py:351: RuntimeWarning: divide by zero encountered in arctanh\n",
            "  result = func(self.values, **kwargs)\n"
          ]
        },
        {
          "output_type": "stream",
          "name": "stdout",
          "text": [
            "Subj 26 : sub-26/func/sub-26_task-speech_atlas-GlasserTianS2_desc-cleaneds0_bold.ptseries.nii\n"
          ]
        },
        {
          "output_type": "stream",
          "name": "stderr",
          "text": [
            "/usr/local/lib/python3.10/dist-packages/pandas/core/internals/blocks.py:351: RuntimeWarning: divide by zero encountered in arctanh\n",
            "  result = func(self.values, **kwargs)\n"
          ]
        },
        {
          "output_type": "stream",
          "name": "stdout",
          "text": [
            "Subj 27 : sub-27/func/sub-27_task-speech_atlas-GlasserTianS2_desc-cleaneds0_bold.ptseries.nii\n"
          ]
        },
        {
          "output_type": "stream",
          "name": "stderr",
          "text": [
            "/usr/local/lib/python3.10/dist-packages/pandas/core/internals/blocks.py:351: RuntimeWarning: divide by zero encountered in arctanh\n",
            "  result = func(self.values, **kwargs)\n"
          ]
        },
        {
          "output_type": "stream",
          "name": "stdout",
          "text": [
            "Subj 28 : sub-28/func/sub-28_task-speech_atlas-GlasserTianS2_desc-cleaneds0_bold.ptseries.nii\n"
          ]
        },
        {
          "output_type": "stream",
          "name": "stderr",
          "text": [
            "/usr/local/lib/python3.10/dist-packages/pandas/core/internals/blocks.py:351: RuntimeWarning: divide by zero encountered in arctanh\n",
            "  result = func(self.values, **kwargs)\n"
          ]
        },
        {
          "output_type": "stream",
          "name": "stdout",
          "text": [
            "Subj 29 : sub-29/func/sub-29_task-speech_atlas-GlasserTianS2_desc-cleaneds0_bold.ptseries.nii\n"
          ]
        },
        {
          "output_type": "stream",
          "name": "stderr",
          "text": [
            "/usr/local/lib/python3.10/dist-packages/pandas/core/internals/blocks.py:351: RuntimeWarning: divide by zero encountered in arctanh\n",
            "  result = func(self.values, **kwargs)\n"
          ]
        },
        {
          "output_type": "stream",
          "name": "stdout",
          "text": [
            "Subj 30 : sub-30/func/sub-30_task-speech_atlas-GlasserTianS2_desc-cleaneds0_bold.ptseries.nii\n"
          ]
        },
        {
          "output_type": "stream",
          "name": "stderr",
          "text": [
            "/usr/local/lib/python3.10/dist-packages/pandas/core/internals/blocks.py:351: RuntimeWarning: divide by zero encountered in arctanh\n",
            "  result = func(self.values, **kwargs)\n"
          ]
        },
        {
          "output_type": "stream",
          "name": "stdout",
          "text": [
            "Subj 32 : sub-32/func/sub-32_task-speech_atlas-GlasserTianS2_desc-cleaneds0_bold.ptseries.nii\n"
          ]
        },
        {
          "output_type": "stream",
          "name": "stderr",
          "text": [
            "/usr/local/lib/python3.10/dist-packages/pandas/core/internals/blocks.py:351: RuntimeWarning: divide by zero encountered in arctanh\n",
            "  result = func(self.values, **kwargs)\n"
          ]
        },
        {
          "output_type": "stream",
          "name": "stdout",
          "text": [
            "Subj 33 : sub-33/func/sub-33_task-speech_atlas-GlasserTianS2_desc-cleaneds0_bold.ptseries.nii\n"
          ]
        },
        {
          "output_type": "stream",
          "name": "stderr",
          "text": [
            "/usr/local/lib/python3.10/dist-packages/pandas/core/internals/blocks.py:351: RuntimeWarning: divide by zero encountered in arctanh\n",
            "  result = func(self.values, **kwargs)\n"
          ]
        },
        {
          "output_type": "stream",
          "name": "stdout",
          "text": [
            "Subj 34 : sub-34/func/sub-34_task-speech_atlas-GlasserTianS2_desc-cleaneds0_bold.ptseries.nii\n"
          ]
        },
        {
          "output_type": "stream",
          "name": "stderr",
          "text": [
            "/usr/local/lib/python3.10/dist-packages/pandas/core/internals/blocks.py:351: RuntimeWarning: divide by zero encountered in arctanh\n",
            "  result = func(self.values, **kwargs)\n"
          ]
        },
        {
          "output_type": "stream",
          "name": "stdout",
          "text": [
            "Subj 36 : sub-36/func/sub-36_task-speech_atlas-GlasserTianS2_desc-cleaneds0_bold.ptseries.nii\n"
          ]
        },
        {
          "output_type": "stream",
          "name": "stderr",
          "text": [
            "/usr/local/lib/python3.10/dist-packages/pandas/core/internals/blocks.py:351: RuntimeWarning: divide by zero encountered in arctanh\n",
            "  result = func(self.values, **kwargs)\n"
          ]
        },
        {
          "output_type": "stream",
          "name": "stdout",
          "text": [
            "Subj 37 : sub-37/func/sub-37_task-speech_atlas-GlasserTianS2_desc-cleaneds0_bold.ptseries.nii\n"
          ]
        },
        {
          "output_type": "stream",
          "name": "stderr",
          "text": [
            "/usr/local/lib/python3.10/dist-packages/pandas/core/internals/blocks.py:351: RuntimeWarning: divide by zero encountered in arctanh\n",
            "  result = func(self.values, **kwargs)\n"
          ]
        },
        {
          "output_type": "stream",
          "name": "stdout",
          "text": [
            "Subj 38 : sub-38/func/sub-38_task-speech_atlas-GlasserTianS2_desc-cleaneds0_bold.ptseries.nii\n"
          ]
        },
        {
          "output_type": "stream",
          "name": "stderr",
          "text": [
            "/usr/local/lib/python3.10/dist-packages/pandas/core/internals/blocks.py:351: RuntimeWarning: divide by zero encountered in arctanh\n",
            "  result = func(self.values, **kwargs)\n"
          ]
        },
        {
          "output_type": "stream",
          "name": "stdout",
          "text": [
            "Subj 40 : sub-40/func/sub-40_task-speech_atlas-GlasserTianS2_desc-cleaneds0_bold.ptseries.nii\n"
          ]
        },
        {
          "output_type": "stream",
          "name": "stderr",
          "text": [
            "/usr/local/lib/python3.10/dist-packages/pandas/core/internals/blocks.py:351: RuntimeWarning: divide by zero encountered in arctanh\n",
            "  result = func(self.values, **kwargs)\n"
          ]
        },
        {
          "output_type": "stream",
          "name": "stdout",
          "text": [
            "Subj 42 : sub-42/func/sub-42_task-speech_atlas-GlasserTianS2_desc-cleaneds0_bold.ptseries.nii\n"
          ]
        },
        {
          "output_type": "stream",
          "name": "stderr",
          "text": [
            "/usr/local/lib/python3.10/dist-packages/pandas/core/internals/blocks.py:351: RuntimeWarning: divide by zero encountered in arctanh\n",
            "  result = func(self.values, **kwargs)\n"
          ]
        },
        {
          "output_type": "stream",
          "name": "stdout",
          "text": [
            "Subj 43 : sub-43/func/sub-43_task-speech_atlas-GlasserTianS2_desc-cleaneds0_bold.ptseries.nii\n"
          ]
        },
        {
          "output_type": "stream",
          "name": "stderr",
          "text": [
            "/usr/local/lib/python3.10/dist-packages/pandas/core/internals/blocks.py:351: RuntimeWarning: divide by zero encountered in arctanh\n",
            "  result = func(self.values, **kwargs)\n"
          ]
        },
        {
          "output_type": "stream",
          "name": "stdout",
          "text": [
            "Subj 44 : sub-44/func/sub-44_task-speech_atlas-GlasserTianS2_desc-cleaneds0_bold.ptseries.nii\n"
          ]
        },
        {
          "output_type": "stream",
          "name": "stderr",
          "text": [
            "/usr/local/lib/python3.10/dist-packages/pandas/core/internals/blocks.py:351: RuntimeWarning: divide by zero encountered in arctanh\n",
            "  result = func(self.values, **kwargs)\n"
          ]
        },
        {
          "output_type": "stream",
          "name": "stdout",
          "text": [
            "Subj 45 : sub-45/func/sub-45_task-speech_atlas-GlasserTianS2_desc-cleaneds0_bold.ptseries.nii\n"
          ]
        },
        {
          "output_type": "stream",
          "name": "stderr",
          "text": [
            "/usr/local/lib/python3.10/dist-packages/pandas/core/internals/blocks.py:351: RuntimeWarning: divide by zero encountered in arctanh\n",
            "  result = func(self.values, **kwargs)\n"
          ]
        },
        {
          "output_type": "stream",
          "name": "stdout",
          "text": [
            "Subj 46 : sub-46/func/sub-46_task-speech_atlas-GlasserTianS2_desc-cleaneds0_bold.ptseries.nii\n"
          ]
        },
        {
          "output_type": "stream",
          "name": "stderr",
          "text": [
            "/usr/local/lib/python3.10/dist-packages/pandas/core/internals/blocks.py:351: RuntimeWarning: divide by zero encountered in arctanh\n",
            "  result = func(self.values, **kwargs)\n"
          ]
        },
        {
          "output_type": "stream",
          "name": "stdout",
          "text": [
            "Subj 47 : sub-47/func/sub-47_task-speech_atlas-GlasserTianS2_desc-cleaneds0_bold.ptseries.nii\n"
          ]
        },
        {
          "output_type": "stream",
          "name": "stderr",
          "text": [
            "/usr/local/lib/python3.10/dist-packages/pandas/core/internals/blocks.py:351: RuntimeWarning: divide by zero encountered in arctanh\n",
            "  result = func(self.values, **kwargs)\n"
          ]
        },
        {
          "output_type": "stream",
          "name": "stdout",
          "text": [
            "Subj 48 : sub-48/func/sub-48_task-speech_atlas-GlasserTianS2_desc-cleaneds0_bold.ptseries.nii\n"
          ]
        },
        {
          "output_type": "stream",
          "name": "stderr",
          "text": [
            "/usr/local/lib/python3.10/dist-packages/pandas/core/internals/blocks.py:351: RuntimeWarning: divide by zero encountered in arctanh\n",
            "  result = func(self.values, **kwargs)\n"
          ]
        },
        {
          "output_type": "stream",
          "name": "stdout",
          "text": [
            "Subj 49 : sub-49/func/sub-49_task-speech_atlas-GlasserTianS2_desc-cleaneds0_bold.ptseries.nii\n"
          ]
        },
        {
          "output_type": "stream",
          "name": "stderr",
          "text": [
            "/usr/local/lib/python3.10/dist-packages/pandas/core/internals/blocks.py:351: RuntimeWarning: divide by zero encountered in arctanh\n",
            "  result = func(self.values, **kwargs)\n"
          ]
        },
        {
          "output_type": "stream",
          "name": "stdout",
          "text": [
            "Subj 50 : sub-50/func/sub-50_task-speech_atlas-GlasserTianS2_desc-cleaneds0_bold.ptseries.nii\n"
          ]
        },
        {
          "output_type": "stream",
          "name": "stderr",
          "text": [
            "/usr/local/lib/python3.10/dist-packages/pandas/core/internals/blocks.py:351: RuntimeWarning: divide by zero encountered in arctanh\n",
            "  result = func(self.values, **kwargs)\n"
          ]
        },
        {
          "output_type": "stream",
          "name": "stdout",
          "text": [
            "Subj 53 : sub-53/func/sub-53_task-speech_atlas-GlasserTianS2_desc-cleaneds0_bold.ptseries.nii\n"
          ]
        },
        {
          "output_type": "stream",
          "name": "stderr",
          "text": [
            "/usr/local/lib/python3.10/dist-packages/pandas/core/internals/blocks.py:351: RuntimeWarning: divide by zero encountered in arctanh\n",
            "  result = func(self.values, **kwargs)\n"
          ]
        },
        {
          "output_type": "stream",
          "name": "stdout",
          "text": [
            "Subj 54 : sub-54/func/sub-54_task-speech_atlas-GlasserTianS2_desc-cleaneds0_bold.ptseries.nii\n"
          ]
        },
        {
          "output_type": "stream",
          "name": "stderr",
          "text": [
            "/usr/local/lib/python3.10/dist-packages/pandas/core/internals/blocks.py:351: RuntimeWarning: divide by zero encountered in arctanh\n",
            "  result = func(self.values, **kwargs)\n"
          ]
        },
        {
          "output_type": "stream",
          "name": "stdout",
          "text": [
            "Subj 55 : sub-55/func/sub-55_task-speech_atlas-GlasserTianS2_desc-cleaneds0_bold.ptseries.nii\n"
          ]
        },
        {
          "output_type": "stream",
          "name": "stderr",
          "text": [
            "/usr/local/lib/python3.10/dist-packages/pandas/core/internals/blocks.py:351: RuntimeWarning: divide by zero encountered in arctanh\n",
            "  result = func(self.values, **kwargs)\n"
          ]
        },
        {
          "output_type": "stream",
          "name": "stdout",
          "text": [
            "Subj 56 : sub-56/func/sub-56_task-speech_atlas-GlasserTianS2_desc-cleaneds0_bold.ptseries.nii\n"
          ]
        },
        {
          "output_type": "stream",
          "name": "stderr",
          "text": [
            "/usr/local/lib/python3.10/dist-packages/pandas/core/internals/blocks.py:351: RuntimeWarning: divide by zero encountered in arctanh\n",
            "  result = func(self.values, **kwargs)\n"
          ]
        },
        {
          "output_type": "stream",
          "name": "stdout",
          "text": [
            "Subj 57 : sub-57/func/sub-57_task-speech_atlas-GlasserTianS2_desc-cleaneds0_bold.ptseries.nii\n"
          ]
        },
        {
          "output_type": "stream",
          "name": "stderr",
          "text": [
            "/usr/local/lib/python3.10/dist-packages/pandas/core/internals/blocks.py:351: RuntimeWarning: divide by zero encountered in arctanh\n",
            "  result = func(self.values, **kwargs)\n"
          ]
        },
        {
          "output_type": "stream",
          "name": "stdout",
          "text": [
            "Subj 58 : sub-58/func/sub-58_task-speech_atlas-GlasserTianS2_desc-cleaneds0_bold.ptseries.nii\n"
          ]
        },
        {
          "output_type": "stream",
          "name": "stderr",
          "text": [
            "/usr/local/lib/python3.10/dist-packages/pandas/core/internals/blocks.py:351: RuntimeWarning: divide by zero encountered in arctanh\n",
            "  result = func(self.values, **kwargs)\n"
          ]
        },
        {
          "output_type": "stream",
          "name": "stdout",
          "text": [
            "Subj 59 : sub-59/func/sub-59_task-speech_atlas-GlasserTianS2_desc-cleaneds0_bold.ptseries.nii\n"
          ]
        },
        {
          "output_type": "stream",
          "name": "stderr",
          "text": [
            "/usr/local/lib/python3.10/dist-packages/pandas/core/internals/blocks.py:351: RuntimeWarning: divide by zero encountered in arctanh\n",
            "  result = func(self.values, **kwargs)\n"
          ]
        },
        {
          "output_type": "stream",
          "name": "stdout",
          "text": [
            "Subj 60 : sub-60/func/sub-60_task-speech_atlas-GlasserTianS2_desc-cleaneds0_bold.ptseries.nii\n"
          ]
        },
        {
          "output_type": "stream",
          "name": "stderr",
          "text": [
            "/usr/local/lib/python3.10/dist-packages/pandas/core/internals/blocks.py:351: RuntimeWarning: divide by zero encountered in arctanh\n",
            "  result = func(self.values, **kwargs)\n"
          ]
        },
        {
          "output_type": "stream",
          "name": "stdout",
          "text": [
            "Subj 61 : sub-61/func/sub-61_task-speech_atlas-GlasserTianS2_desc-cleaneds0_bold.ptseries.nii\n"
          ]
        },
        {
          "output_type": "stream",
          "name": "stderr",
          "text": [
            "/usr/local/lib/python3.10/dist-packages/pandas/core/internals/blocks.py:351: RuntimeWarning: divide by zero encountered in arctanh\n",
            "  result = func(self.values, **kwargs)\n"
          ]
        },
        {
          "output_type": "stream",
          "name": "stdout",
          "text": [
            "Subj 62 : sub-62/func/sub-62_task-speech_atlas-GlasserTianS2_desc-cleaneds0_bold.ptseries.nii\n"
          ]
        },
        {
          "output_type": "stream",
          "name": "stderr",
          "text": [
            "/usr/local/lib/python3.10/dist-packages/pandas/core/internals/blocks.py:351: RuntimeWarning: divide by zero encountered in arctanh\n",
            "  result = func(self.values, **kwargs)\n"
          ]
        },
        {
          "output_type": "stream",
          "name": "stdout",
          "text": [
            "Subj 63 : sub-63/func/sub-63_task-speech_atlas-GlasserTianS2_desc-cleaneds0_bold.ptseries.nii\n"
          ]
        },
        {
          "output_type": "stream",
          "name": "stderr",
          "text": [
            "/usr/local/lib/python3.10/dist-packages/pandas/core/internals/blocks.py:351: RuntimeWarning: divide by zero encountered in arctanh\n",
            "  result = func(self.values, **kwargs)\n"
          ]
        },
        {
          "output_type": "stream",
          "name": "stdout",
          "text": [
            "Subj 64 : sub-64/func/sub-64_task-speech_atlas-GlasserTianS2_desc-cleaneds0_bold.ptseries.nii\n"
          ]
        },
        {
          "output_type": "stream",
          "name": "stderr",
          "text": [
            "/usr/local/lib/python3.10/dist-packages/pandas/core/internals/blocks.py:351: RuntimeWarning: divide by zero encountered in arctanh\n",
            "  result = func(self.values, **kwargs)\n"
          ]
        },
        {
          "output_type": "stream",
          "name": "stdout",
          "text": [
            "Subj 65 : sub-65/func/sub-65_task-speech_atlas-GlasserTianS2_desc-cleaneds0_bold.ptseries.nii\n"
          ]
        },
        {
          "output_type": "stream",
          "name": "stderr",
          "text": [
            "/usr/local/lib/python3.10/dist-packages/pandas/core/internals/blocks.py:351: RuntimeWarning: divide by zero encountered in arctanh\n",
            "  result = func(self.values, **kwargs)\n"
          ]
        },
        {
          "output_type": "stream",
          "name": "stdout",
          "text": [
            "Subj 66 : sub-66/func/sub-66_task-speech_atlas-GlasserTianS2_desc-cleaneds0_bold.ptseries.nii\n"
          ]
        },
        {
          "output_type": "stream",
          "name": "stderr",
          "text": [
            "/usr/local/lib/python3.10/dist-packages/pandas/core/internals/blocks.py:351: RuntimeWarning: divide by zero encountered in arctanh\n",
            "  result = func(self.values, **kwargs)\n"
          ]
        },
        {
          "output_type": "stream",
          "name": "stdout",
          "text": [
            "Subj 67 : sub-67/func/sub-67_task-speech_atlas-GlasserTianS2_desc-cleaneds0_bold.ptseries.nii\n"
          ]
        },
        {
          "output_type": "stream",
          "name": "stderr",
          "text": [
            "/usr/local/lib/python3.10/dist-packages/pandas/core/internals/blocks.py:351: RuntimeWarning: divide by zero encountered in arctanh\n",
            "  result = func(self.values, **kwargs)\n"
          ]
        },
        {
          "output_type": "stream",
          "name": "stdout",
          "text": [
            "Subj 68 : sub-68/func/sub-68_task-speech_atlas-GlasserTianS2_desc-cleaneds0_bold.ptseries.nii\n"
          ]
        },
        {
          "output_type": "stream",
          "name": "stderr",
          "text": [
            "/usr/local/lib/python3.10/dist-packages/pandas/core/internals/blocks.py:351: RuntimeWarning: divide by zero encountered in arctanh\n",
            "  result = func(self.values, **kwargs)\n"
          ]
        },
        {
          "output_type": "stream",
          "name": "stdout",
          "text": [
            "Subj 69 : sub-69/func/sub-69_task-speech_atlas-GlasserTianS2_desc-cleaneds0_bold.ptseries.nii\n"
          ]
        },
        {
          "output_type": "stream",
          "name": "stderr",
          "text": [
            "/usr/local/lib/python3.10/dist-packages/pandas/core/internals/blocks.py:351: RuntimeWarning: divide by zero encountered in arctanh\n",
            "  result = func(self.values, **kwargs)\n"
          ]
        },
        {
          "output_type": "stream",
          "name": "stdout",
          "text": [
            "Subj 70 : sub-70/func/sub-70_task-speech_atlas-GlasserTianS2_desc-cleaneds0_bold.ptseries.nii\n"
          ]
        },
        {
          "output_type": "stream",
          "name": "stderr",
          "text": [
            "/usr/local/lib/python3.10/dist-packages/pandas/core/internals/blocks.py:351: RuntimeWarning: divide by zero encountered in arctanh\n",
            "  result = func(self.values, **kwargs)\n"
          ]
        },
        {
          "output_type": "stream",
          "name": "stdout",
          "text": [
            "Subj 71 : sub-71/func/sub-71_task-speech_atlas-GlasserTianS2_desc-cleaneds0_bold.ptseries.nii\n"
          ]
        },
        {
          "output_type": "stream",
          "name": "stderr",
          "text": [
            "/usr/local/lib/python3.10/dist-packages/pandas/core/internals/blocks.py:351: RuntimeWarning: divide by zero encountered in arctanh\n",
            "  result = func(self.values, **kwargs)\n"
          ]
        },
        {
          "output_type": "stream",
          "name": "stdout",
          "text": [
            "Subj 72 : sub-72/func/sub-72_task-speech_atlas-GlasserTianS2_desc-cleaneds0_bold.ptseries.nii\n"
          ]
        },
        {
          "output_type": "stream",
          "name": "stderr",
          "text": [
            "/usr/local/lib/python3.10/dist-packages/pandas/core/internals/blocks.py:351: RuntimeWarning: divide by zero encountered in arctanh\n",
            "  result = func(self.values, **kwargs)\n"
          ]
        },
        {
          "output_type": "stream",
          "name": "stdout",
          "text": [
            "Subj 73 : sub-73/func/sub-73_task-speech_atlas-GlasserTianS2_desc-cleaneds0_bold.ptseries.nii\n"
          ]
        },
        {
          "output_type": "stream",
          "name": "stderr",
          "text": [
            "/usr/local/lib/python3.10/dist-packages/pandas/core/internals/blocks.py:351: RuntimeWarning: divide by zero encountered in arctanh\n",
            "  result = func(self.values, **kwargs)\n"
          ]
        },
        {
          "output_type": "stream",
          "name": "stdout",
          "text": [
            "Subj 74 : sub-74/func/sub-74_task-speech_atlas-GlasserTianS2_desc-cleaneds0_bold.ptseries.nii\n"
          ]
        },
        {
          "output_type": "stream",
          "name": "stderr",
          "text": [
            "/usr/local/lib/python3.10/dist-packages/pandas/core/internals/blocks.py:351: RuntimeWarning: divide by zero encountered in arctanh\n",
            "  result = func(self.values, **kwargs)\n"
          ]
        },
        {
          "output_type": "stream",
          "name": "stdout",
          "text": [
            "Subj 75 : sub-75/func/sub-75_task-speech_atlas-GlasserTianS2_desc-cleaneds0_bold.ptseries.nii\n"
          ]
        },
        {
          "output_type": "stream",
          "name": "stderr",
          "text": [
            "/usr/local/lib/python3.10/dist-packages/pandas/core/internals/blocks.py:351: RuntimeWarning: divide by zero encountered in arctanh\n",
            "  result = func(self.values, **kwargs)\n"
          ]
        }
      ]
    },
    {
      "cell_type": "code",
      "source": [
        "# could use .any or np.any()\n",
        "print(np.isnan(aparc_corZ_df).any())\n"
      ],
      "metadata": {
        "colab": {
          "base_uri": "https://localhost:8080/"
        },
        "id": "XOYsIquIOizZ",
        "outputId": "ac17f900-159f-4b47-cf0a-8a90f31d0081"
      },
      "execution_count": null,
      "outputs": [
        {
          "output_type": "stream",
          "name": "stdout",
          "text": [
            "<built-in method any of numpy.ndarray object at 0x7feff31af990>\n"
          ]
        }
      ]
    },
    {
      "cell_type": "code",
      "source": [
        "#aparc_corZ_df[np.isnan(slice).all() == False].shape\n",
        "nan_index_list = []\n",
        "\n",
        "for slice in aparc_corZ_df:\n",
        "  nan = np.isnan(slice).all()\n",
        "  #print(nan)\n",
        "  nan_index_list.append(nan)\n",
        "  #np.append(nan_index_list, nan)\n",
        "\n",
        "nan_index_list = np.invert(nan_index_list)\n",
        "print(nan_index_list)"
      ],
      "metadata": {
        "colab": {
          "base_uri": "https://localhost:8080/"
        },
        "id": "YdQxiRy3eBb0",
        "outputId": "27234ec0-52f2-437b-dafe-8c79db2b8b42"
      },
      "execution_count": null,
      "outputs": [
        {
          "output_type": "stream",
          "name": "stdout",
          "text": [
            "[ True  True  True  True False False  True  True  True  True  True  True\n",
            "  True  True  True  True  True  True  True  True  True  True  True  True\n",
            "  True  True  True  True  True  True False  True  True  True False  True\n",
            "  True  True False  True False  True  True  True  True  True  True  True\n",
            "  True  True False False  True  True  True  True  True  True  True  True\n",
            "  True  True  True  True  True  True  True  True  True  True  True  True\n",
            "  True  True  True]\n"
          ]
        }
      ]
    },
    {
      "cell_type": "code",
      "source": [
        "aparc_corZ_df_subset = aparc_corZ_df[nan_index_list]\n",
        "print(aparc_corZ_df_subset)"
      ],
      "metadata": {
        "colab": {
          "base_uri": "https://localhost:8080/"
        },
        "id": "Fo4nTlKCjo-L",
        "outputId": "82189c22-4fea-4e9e-8005-ffba6900e597"
      },
      "execution_count": null,
      "outputs": [
        {
          "output_type": "stream",
          "name": "stdout",
          "text": [
            "[[[        inf  0.32255187  0.15193482 ...  0.16071299 -0.05673696\n",
            "    0.20143603]\n",
            "  [ 0.32255187         inf -0.15097893 ... -0.10863969  0.32809016\n",
            "    0.24119626]\n",
            "  [ 0.15193482 -0.15097893         inf ...  0.01618997 -0.06972734\n",
            "    0.13062049]\n",
            "  ...\n",
            "  [ 0.16071299 -0.10863969  0.01618997 ...         inf -0.08499283\n",
            "    0.05280606]\n",
            "  [-0.05673696  0.32809016 -0.06972734 ... -0.08499283         inf\n",
            "    0.36968227]\n",
            "  [ 0.20143603  0.24119626  0.13062049 ...  0.05280606  0.36968227\n",
            "           inf]]\n",
            "\n",
            " [[        inf  0.4203699   0.23375665 ... -0.00160442  0.124289\n",
            "    0.12394787]\n",
            "  [ 0.4203699          inf  0.17093777 ...  0.14520114  0.17682658\n",
            "    0.18584184]\n",
            "  [ 0.23375665  0.17093777         inf ...  0.12411369 -0.03376539\n",
            "   -0.05927843]\n",
            "  ...\n",
            "  [-0.00160442  0.14520114  0.12411369 ...         inf  0.29082964\n",
            "    0.31944286]\n",
            "  [ 0.124289    0.17682658 -0.03376539 ...  0.29082964         inf\n",
            "    0.46591356]\n",
            "  [ 0.12394787  0.18584184 -0.05927843 ...  0.31944286  0.46591356\n",
            "           inf]]\n",
            "\n",
            " [[        inf  0.24646112  0.15490028 ...  0.1605101  -0.16936937\n",
            "   -0.17479976]\n",
            "  [ 0.24646112         inf  0.29002206 ... -0.10756165  0.15491124\n",
            "    0.13493186]\n",
            "  [ 0.15490028  0.29002206         inf ... -0.39025692  0.49687353\n",
            "    0.40529116]\n",
            "  ...\n",
            "  [ 0.1605101  -0.10756165 -0.39025692 ...         inf -0.22426606\n",
            "   -0.02163903]\n",
            "  [-0.16936937  0.15491124  0.49687353 ... -0.22426606         inf\n",
            "    0.65920317]\n",
            "  [-0.17479976  0.13493186  0.40529116 ... -0.02163903  0.65920317\n",
            "           inf]]\n",
            "\n",
            " ...\n",
            "\n",
            " [[        inf  0.50902669  0.35106998 ... -0.06671848 -0.06391741\n",
            "   -0.03546897]\n",
            "  [ 0.50902669         inf  0.20972315 ... -0.1601007   0.07161747\n",
            "   -0.07224453]\n",
            "  [ 0.35106998  0.20972315         inf ...  0.01584916 -0.08689488\n",
            "   -0.18092906]\n",
            "  ...\n",
            "  [-0.06671848 -0.1601007   0.01584916 ...         inf -0.01057331\n",
            "   -0.21582656]\n",
            "  [-0.06391741  0.07161747 -0.08689488 ... -0.01057331         inf\n",
            "    0.43313417]\n",
            "  [-0.03546897 -0.07224453 -0.18092906 ... -0.21582656  0.43313417\n",
            "           inf]]\n",
            "\n",
            " [[        inf  0.49190185  0.51012512 ...  0.23751468 -0.01276641\n",
            "    0.03154633]\n",
            "  [ 0.49190185         inf  0.2474076  ... -0.02646041  0.18440124\n",
            "    0.02332611]\n",
            "  [ 0.51012512  0.2474076          inf ...  0.19850541  0.05450181\n",
            "   -0.08974669]\n",
            "  ...\n",
            "  [ 0.23751468 -0.02646041  0.19850541 ...         inf -0.05429401\n",
            "    0.02006143]\n",
            "  [-0.01276641  0.18440124  0.05450181 ... -0.05429401         inf\n",
            "    0.40304736]\n",
            "  [ 0.03154633  0.02332611 -0.08974669 ...  0.02006143  0.40304736\n",
            "           inf]]\n",
            "\n",
            " [[        inf  0.52434854  0.25227537 ...  0.22220006 -0.14551986\n",
            "    0.11678428]\n",
            "  [ 0.52434854         inf  0.14405036 ... -0.00556469 -0.04908815\n",
            "    0.11836776]\n",
            "  [ 0.25227537  0.14405036         inf ...  0.14832301 -0.08192864\n",
            "   -0.01272784]\n",
            "  ...\n",
            "  [ 0.22220006 -0.00556469  0.14832301 ...         inf -0.06561736\n",
            "    0.02934865]\n",
            "  [-0.14551986 -0.04908815 -0.08192864 ... -0.06561736         inf\n",
            "    0.62750626]\n",
            "  [ 0.11678428  0.11836776 -0.01272784 ...  0.02934865  0.62750626\n",
            "           inf]]]\n"
          ]
        }
      ]
    },
    {
      "cell_type": "code",
      "source": [
        "aparc_corZ_df_subset.shape"
      ],
      "metadata": {
        "colab": {
          "base_uri": "https://localhost:8080/"
        },
        "id": "lJhylZpKRhE1",
        "outputId": "9c392548-a67a-43ef-b646-e0a89d2a01cc"
      },
      "execution_count": null,
      "outputs": [
        {
          "output_type": "execute_result",
          "data": {
            "text/plain": [
              "(67, 392, 392)"
            ]
          },
          "metadata": {},
          "execution_count": 9
        }
      ]
    },
    {
      "cell_type": "code",
      "source": [
        "aparc_corZ_reshape  = aparc_corZ_df_subset.reshape(67,-1)\n",
        "aparc_corZ_reshape.shape\n",
        "print(aparc_corZ_reshape)"
      ],
      "metadata": {
        "colab": {
          "base_uri": "https://localhost:8080/"
        },
        "id": "aDInznJYPKc_",
        "outputId": "e820f6a2-9f52-476c-c924-e19a02e25c53"
      },
      "execution_count": null,
      "outputs": [
        {
          "output_type": "stream",
          "name": "stdout",
          "text": [
            "[[        inf  0.32255187  0.15193482 ...  0.05280606  0.36968227\n",
            "          inf]\n",
            " [        inf  0.4203699   0.23375665 ...  0.31944286  0.46591356\n",
            "          inf]\n",
            " [        inf  0.24646112  0.15490028 ... -0.02163903  0.65920317\n",
            "          inf]\n",
            " ...\n",
            " [        inf  0.50902669  0.35106998 ... -0.21582656  0.43313417\n",
            "          inf]\n",
            " [        inf  0.49190185  0.51012512 ...  0.02006143  0.40304736\n",
            "          inf]\n",
            " [        inf  0.52434854  0.25227537 ...  0.02934865  0.62750626\n",
            "          inf]]\n"
          ]
        }
      ]
    },
    {
      "cell_type": "code",
      "source": [
        "aparc_corZ_reshape[~np.isfinite(aparc_corZ_reshape)] = 0"
      ],
      "metadata": {
        "id": "U7kdwbWsUC0T"
      },
      "execution_count": null,
      "outputs": []
    },
    {
      "cell_type": "code",
      "source": [
        "from sklearn.model_selection import GroupKFold\n",
        "from sklearn.model_selection import permutation_test_score\n",
        "from sklearn.pipeline import make_pipeline\n",
        "from sklearn.decomposition import PCA\n",
        "from sklearn import svm\n",
        "from sklearn.preprocessing import StandardScaler\n",
        "import random"
      ],
      "metadata": {
        "id": "G2TRLO_2l6bl"
      },
      "execution_count": null,
      "outputs": []
    },
    {
      "cell_type": "code",
      "source": [
        "aparc_corZ_std = StandardScaler().fit_transform(aparc_corZ_reshape)\n",
        "aparc_corZ_std.shape"
      ],
      "metadata": {
        "colab": {
          "base_uri": "https://localhost:8080/"
        },
        "id": "tDqgYcNJW8MY",
        "outputId": "ce818207-53ec-44bc-dede-9a5666177443"
      },
      "execution_count": null,
      "outputs": [
        {
          "output_type": "execute_result",
          "data": {
            "text/plain": [
              "(67, 153664)"
            ]
          },
          "metadata": {},
          "execution_count": 41
        }
      ]
    },
    {
      "cell_type": "code",
      "source": [
        "pca = PCA()\n",
        "aparc_corZ_pca = pca.fit_transform(aparc_corZ_std)"
      ],
      "metadata": {
        "id": "a1OnaEHuYHGd"
      },
      "execution_count": null,
      "outputs": []
    },
    {
      "cell_type": "code",
      "source": [
        "print(aparc_corZ_pca)"
      ],
      "metadata": {
        "colab": {
          "base_uri": "https://localhost:8080/"
        },
        "id": "btgk1cZdYaA4",
        "outputId": "dd10f94f-3c05-49fa-e7d4-dcd2f2870348"
      },
      "execution_count": null,
      "outputs": [
        {
          "output_type": "stream",
          "name": "stdout",
          "text": [
            "[[ 3.60777931e+01 -9.79274244e+01  2.84045408e+01 ... -2.65730928e+01\n",
            "  -2.22522750e+00  8.80648514e-14]\n",
            " [ 1.74851471e+01  6.79714776e+01  1.38133727e+02 ... -8.58160059e+00\n",
            "  -1.78945939e+01  8.80648514e-14]\n",
            " [ 2.42726355e+01  2.93722988e+01 -3.74694465e+01 ... -3.13012279e+01\n",
            "  -6.54558426e+00  8.80648514e-14]\n",
            " ...\n",
            " [ 3.82920658e+01 -7.96772254e+01  6.39608969e+01 ... -1.48158186e+01\n",
            "   2.45273662e+01  8.80648514e-14]\n",
            " [-3.00098939e+01  6.16841857e+00 -2.17597512e+01 ... -2.05690024e+01\n",
            "   3.22142040e+00  8.80648514e-14]\n",
            " [ 3.63932064e+01 -8.64248048e+00  9.58937622e+01 ... -2.87722456e+00\n",
            "   4.94573899e+01  8.80648514e-14]]\n"
          ]
        }
      ]
    },
    {
      "cell_type": "code",
      "source": [
        "import matplotlib.pyplot as plt"
      ],
      "metadata": {
        "id": "kQgpLjgiZR91"
      },
      "execution_count": null,
      "outputs": []
    },
    {
      "cell_type": "code",
      "source": [
        "labels = data['group'].to_numpy()\n",
        "\n",
        "label_colors = {\n",
        "    'HC': 'blue',\n",
        "    'AVH-': 'green',\n",
        "    'AVH+': 'red'\n",
        "}\n",
        "\n",
        "colors = [label_colors[label] for label in labels]"
      ],
      "metadata": {
        "id": "VVHFJXaWbH_m"
      },
      "execution_count": null,
      "outputs": []
    },
    {
      "cell_type": "code",
      "source": [
        "print(labels)"
      ],
      "metadata": {
        "colab": {
          "base_uri": "https://localhost:8080/"
        },
        "id": "rxn0nHCieULw",
        "outputId": "12873bac-7bb4-4f6b-9a04-a3a08ec0084d"
      },
      "execution_count": null,
      "outputs": [
        {
          "output_type": "stream",
          "name": "stdout",
          "text": [
            "['HC' 'HC' 'HC' 'HC' 'HC' 'HC' 'HC' 'HC' 'HC' 'HC' 'HC' 'HC' 'HC' 'HC'\n",
            " 'HC' 'HC' 'HC' 'HC' 'HC' 'HC' 'HC' 'HC' 'HC' 'AVH-' 'AVH-' 'AVH-' 'AVH-'\n",
            " 'AVH-' 'AVH-' 'AVH-' 'AVH-' 'AVH-' 'AVH-' 'AVH-' 'AVH-' 'AVH-' 'AVH-'\n",
            " 'AVH-' 'AVH-' 'AVH-' 'AVH-' 'AVH-' 'AVH-' 'AVH-' 'AVH-' 'AVH-' 'AVH+'\n",
            " 'AVH+' 'AVH+' 'AVH+' 'AVH+' 'AVH+' 'AVH+' 'AVH+' 'AVH+' 'AVH+' 'AVH+'\n",
            " 'AVH+' 'AVH+' 'AVH+' 'AVH+' 'AVH+' 'AVH+' 'AVH+' 'AVH+' 'AVH+' 'AVH+']\n"
          ]
        }
      ]
    },
    {
      "cell_type": "code",
      "source": [
        "plt.scatter(aparc_corZ_pca[0,:], aparc_corZ_pca[:,1], c = colors)\n",
        "plt.show\n"
      ],
      "metadata": {
        "colab": {
          "base_uri": "https://localhost:8080/",
          "height": 448
        },
        "id": "VBbSKX-EZT6e",
        "outputId": "aa01a338-ebee-4af1-a272-17cbdb717d75"
      },
      "execution_count": null,
      "outputs": [
        {
          "output_type": "execute_result",
          "data": {
            "text/plain": [
              "<function matplotlib.pyplot.show(close=None, block=None)>"
            ]
          },
          "metadata": {},
          "execution_count": 65
        },
        {
          "output_type": "display_data",
          "data": {
            "text/plain": [
              "<Figure size 640x480 with 1 Axes>"
            ],
            "image/png": "[encoded data removed]"
          },
          "metadata": {}
        }
      ]
    },
    {
      "cell_type": "code",
      "source": [
        "  labels = data['group'].to_numpy()\n",
        "  samples = aparc_corZ_pca\n",
        "\n",
        "\n",
        "\n",
        "  # set up cross validation classification\n",
        "  numSplits = 3\n",
        "  CVfolds = GroupKFold(n_splits=numSplits)\n",
        "  clf = make_pipeline(svm.SVC(kernel='linear'))\n",
        "\n",
        "  # run permutation analysis\n",
        "  random.seed(77777)\n",
        "  score,permutation_scores,pvalue = permutation_test_score(estimator = clf,\n",
        "                                                           X = samples, \n",
        "                                                           y = labels,\n",
        "                                                           groups = labels,\n",
        "                                                           scoring='accuracy',\n",
        "                                                           cv = CVfolds, \n",
        "                                                           n_permutations=100,\n",
        "                                                           n_jobs = 4)\n",
        "  \n",
        "    \n",
        "  print(\"Classification score %1.3f (pvalue : %1.3g)\" % (score, pvalue))"
      ],
      "metadata": {
        "colab": {
          "base_uri": "https://localhost:8080/"
        },
        "id": "X033cv9GiGhc",
        "outputId": "cf6da856-2f46-47d6-c0b0-94527a40a522"
      },
      "execution_count": null,
      "outputs": [
        {
          "output_type": "stream",
          "name": "stdout",
          "text": [
            "Classification score 0.000 (pvalue : 1)\n"
          ]
        }
      ]
    }
  ]
}